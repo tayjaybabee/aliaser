{
  "nbformat": 4,
  "nbformat_minor": 0,
  "metadata": {
    "colab": {
      "provenance": []
    },
    "kernelspec": {
      "name": "python3",
      "display_name": "Python 3"
    },
    "language_info": {
      "name": "python"
    }
  },
  "cells": [
    {
      "cell_type": "code",
      "execution_count": 3,
      "metadata": {
        "colab": {
          "base_uri": "https://localhost:8080/"
        },
        "id": "F8GFzFCi7Hy_",
        "outputId": "376df031-b25f-4479-d57f-2cfe88e9d9e3"
      },
      "outputs": [
        {
          "output_type": "stream",
          "name": "stdout",
          "text": [
            "Collecting aliaser==1.0.0-dev.2\n",
            "  Downloading aliaser-1.0.0.dev2-py3-none-any.whl.metadata (632 bytes)\n",
            "Downloading aliaser-1.0.0.dev2-py3-none-any.whl (3.6 kB)\n",
            "Installing collected packages: aliaser\n",
            "Successfully installed aliaser-1.0.0.dev2\n"
          ]
        }
      ],
      "source": [
        "!pip install aliaser==1.0.0-dev.2"
      ]
    },
    {
      "cell_type": "code",
      "source": [
        "from aliaser import Aliases\n",
        "from datetime import datetime\n",
        "\n",
        "class Example(Aliases):\n",
        "    def __init__(self):\n",
        "        self._start_time = datetime.now()\n",
        "\n",
        "    @property\n",
        "    @alias('start_ts', 'start_timestamp')\n",
        "    def start_time(self):\n",
        "        return self._start_time\n",
        "\n",
        "    @alias('get_ts', 'get_timestamp', 'now')\n",
        "    def get_time(self):\n",
        "        return datetime.now()\n",
        "\n",
        "\n",
        "EXAMPLE = Example()\n",
        ""
      ],
      "metadata": {
        "id": "PLYGiNg77M-U"
      },
      "execution_count": 4,
      "outputs": []
    },
    {
      "cell_type": "code",
      "source": [
        "print(EXAMPLE.now())\n",
        "print(EXAMPLE.start_ts)"
      ],
      "metadata": {
        "colab": {
          "base_uri": "https://localhost:8080/"
        },
        "id": "lLCAAa6Z7tv8",
        "outputId": "bba3ad71-4b1e-46e4-a884-95bb380fbc85"
      },
      "execution_count": 6,
      "outputs": [
        {
          "output_type": "stream",
          "name": "stdout",
          "text": [
            "2025-07-06 22:53:32.195644\n",
            "2025-07-06 22:50:19.033539\n"
          ]
        }
      ]
    },
    {
      "cell_type": "code",
      "source": [],
      "metadata": {
        "id": "5pVwKG-S7y9P"
      },
      "execution_count": null,
      "outputs": []
    }
  ]
}